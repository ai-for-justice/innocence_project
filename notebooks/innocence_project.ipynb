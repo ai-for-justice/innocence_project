{
    "cells": [
        {
            "cell_type": "code",
            "execution_count": 1,
            "metadata": {},
            "outputs": [],
            "source": [
                "import os\n",
                "import requests\n",
                "from langchain_community.chat_models import ChatOpenAI\n",
                "\n",
                "# OpenAI API Key\n",
                "os.environ[\"OPENAI_API_KEY\"] = \"\" # Your OpenAI API Key"
            ]
        },
        {
            "cell_type": "code",
            "execution_count": 2,
            "metadata": {},
            "outputs": [
                {
                    "name": "stderr",
                    "output_type": "stream",
                    "text": [
                        "/Users/jieyinuo/opt/anaconda3/envs/innocent_project/lib/python3.9/site-packages/langchain_core/_api/deprecation.py:117: LangChainDeprecationWarning: The class `langchain_community.chat_models.openai.ChatOpenAI` was deprecated in langchain-community 0.0.10 and will be removed in 0.2.0. An updated version of the class exists in the langchain-openai package and should be used instead. To use it run `pip install -U langchain-openai` and import as `from langchain_openai import ChatOpenAI`.\n",
                        "  warn_deprecated(\n"
                    ]
                }
            ],
            "source": [
                "# prompts\n",
                "HEADERS = {\n",
                "    \"Content-Type\": \"application/json\",\n",
                "    \"Authorization\": f\"Bearer {os.getenv('OPENAI_API_KEY')}\",\n",
                "}\n",
                "\n",
                "INFO_EXTRACTION_RPOMPT = \"\"\"\n",
                "    Analyze the provided images to summarize key information about the applicant's case based on their responses. Focus on accurately capturing:\n",
                "\n",
                "    - Specifics of the crime(s) they were convicted of, including dates and locations.\n",
                "    - Their account of the events surrounding the crime, emphasizing their description and any claims of innocence.\n",
                "    - Any alibi or evidence they provide that supports their case.\n",
                "    - Connections or relationships with the victim(s) or others involved in the case.\n",
                "    - Clarify the applicant's stance on their conviction and any aspects they are disputing.\n",
                "\n",
                "    Ensure to maintain the original meaning and intention of the applicant's responses, avoiding any assumptions or modifications beyond what is explicitly stated in their answers.\n",
                "\"\"\"\n",
                "\n",
                "MISSINFO_CHECK_PROMPT_TEMPLATE = \"\"\"\n",
                "    Review the summarized information extracted from the applicant's intake letter. \n",
                "    \n",
                "    Information: '{background}'. \n",
                "    \n",
                "    Determine if all necessary details are provided, including specifics of the conviction, the applicant's account and evidence, connections with involved parties, and their stance on the conviction. If any key information is missing, respond with 'YES' and draft a letter requesting the specific missing information from the applicant. The letter should be polite, concise, and clearly specify what information is needed and why it is important for their case. If the narrative is complete, simply respond with 'NO'.\n",
                "    \n",
                "    {format_instructions}.\n",
                "\"\"\"\n",
                "\n",
                "CRITERIA_CHECK_PROMPT_TEMPLATE = \"\"\"\n",
                "    Assess in details the provided narrative against the Innocence Project's criteria for cases they do not handle, which include consent/transaction cases, self-defense/justification, sustained abuse, illegal substance charges, RICO/Hobbs Act charges, DWI/DUI, fraud/identity theft/forgery, stalking/harassment, and sentencing reduction/overcharge issues.\n",
                "    \n",
                "    Narritive: '{background}'.\n",
                "\n",
                "    1. Step by step, evaluate each criterion, explaining your decision process in details why the case does or does not fit within these excluded categories.\n",
                "    2. Conclude whether the case should be rejected based on these criteria or if it matches the criteria for further review.\n",
                "    3. If the narrative matches one of the excluded criteria, draft a polite and concise rejection letter explaining the specific reason(s) why the case does not meet the project's guidelines. If the narrative does not match any excluded criteria, indicate that the case is given to a different team for further handling.\n",
                "    \n",
                "    {format_instructions}.\n",
                "\"\"\"\n",
                "\n",
                "LLM = ChatOpenAI(openai_api_key=os.getenv(\"OPENAI_API_KEY\"))"
            ]
        },
        {
            "cell_type": "markdown",
            "metadata": {},
            "source": [
                "# Pdf to Image"
            ]
        },
        {
            "cell_type": "code",
            "execution_count": 3,
            "metadata": {},
            "outputs": [],
            "source": [
                "import fitz  # Import the PyMuPDF library\n",
                "import base64\n",
                "from PIL import Image\n",
                "from io import BytesIO\n",
                "from typing import List, Union\n",
                "\n",
                "\n",
                "def encode_image(image_path):\n",
                "    with open(image_path, \"rb\") as image_file:\n",
                "        return base64.b64encode(image_file.read()).decode(\"utf-8\")\n",
                "\n",
                "\n",
                "def encode_image_pil(image) -> str:\n",
                "    \"\"\"\n",
                "    Encodes a PIL Image object to a base64 string.\n",
                "    \"\"\"\n",
                "    with BytesIO() as image_buffer:\n",
                "        image.save(image_buffer, format=\"PNG\")  # Save image to buffer in PNG format\n",
                "        return base64.b64encode(image_buffer.getvalue()).decode(\"utf-8\")\n",
                "\n",
                "\n",
                "def pdf_to_images(pdf_path: str) -> List[str]:\n",
                "    \"\"\"\n",
                "    Converts each page of a PDF file into a list of base64-encoded images.\n",
                "\n",
                "    Args:\n",
                "        pdf_path (str): The file path of the PDF.\n",
                "\n",
                "    Returns:\n",
                "        List of base64-encoded strings, where each string represents an image of a PDF page.\n",
                "    \"\"\"\n",
                "    encoded_images = []  # Initialize an empty list to store the base64 strings\n",
                "\n",
                "    with fitz.open(pdf_path) as pdf:\n",
                "        for page in pdf:\n",
                "            # Render page to a pixmap (an image)\n",
                "            pix = page.get_pixmap()\n",
                "            # Convert the pixmap to an image bytes\n",
                "            img_bytes = pix.tobytes(\"png\")\n",
                "            # Create a PIL Image object from the bytes\n",
                "            image = Image.open(BytesIO(img_bytes))\n",
                "            # Use the modified encode function to get a base64 string\n",
                "            encoded_image = encode_image_pil(image)\n",
                "            # Append the base64 string to the list\n",
                "            encoded_images.append(encoded_image)\n",
                "\n",
                "    return encoded_images"
            ]
        },
        {
            "cell_type": "code",
            "execution_count": 4,
            "metadata": {},
            "outputs": [],
            "source": [
                "def analyze_applicant_intake_letters(file_path_or_images: Union[str, List[str]]) -> str:\n",
                "    \"\"\"\n",
                "    Analyzes provided intake letters or images to summarize key information about an applicant's case.\n",
                "\n",
                "    Args:\n",
                "        file_path_or_images (Union[str, List[str]]): The file path of the PDF or a list of image file paths containing the applicant's intake letters.\n",
                "\n",
                "    Returns:\n",
                "        The response from the API call.\n",
                "    \"\"\"\n",
                "    if isinstance(file_path_or_images, str) and file_path_or_images.endswith(\".pdf\"):\n",
                "        encoded_images = pdf_to_images(file_path_or_images)\n",
                "    elif isinstance(file_path_or_images, list):\n",
                "        encoded_images = [\n",
                "            encode_image(image_path)\n",
                "            for image_path in file_path_or_images\n",
                "            if image_path.endswith((\".png\", \".jpeg\", \".jpg\"))\n",
                "        ]\n",
                "    else:\n",
                "        raise ValueError(\n",
                "            \"Unsupported file format or type. Please provide a PDF path or a list of PNG/JPEG image paths.\"\n",
                "        )\n",
                "\n",
                "    messages_content = [{\"type\": \"text\", \"text\": INFO_EXTRACTION_RPOMPT}] + [\n",
                "        {\"type\": \"image_url\", \"image_url\": {\"url\": f\"data:image/jpeg;base64,{image}\"}}\n",
                "        for image in encoded_images\n",
                "    ]\n",
                "\n",
                "    payload = {\n",
                "        \"model\": \"gpt-4-vision-preview\",\n",
                "        \"messages\": [\n",
                "            {\n",
                "                \"role\": \"user\",\n",
                "                \"content\": messages_content,\n",
                "            }\n",
                "        ],\n",
                "        \"max_tokens\": 2000,\n",
                "    }\n",
                "\n",
                "    HEADERS = {\n",
                "        \"Content-Type\": \"application/json\",\n",
                "        \"Authorization\": f\"Bearer {os.getenv('OPENAI_API_KEY')}\",\n",
                "    }\n",
                "\n",
                "    response = requests.post(\n",
                "        \"https://api.openai.com/v1/chat/completions\", headers=HEADERS, json=payload\n",
                "    )\n",
                "\n",
                "    return response.json()[\"choices\"][0][\"message\"][\"content\"]"
            ]
        },
        {
            "cell_type": "code",
            "execution_count": 21,
            "metadata": {},
            "outputs": [
                {
                    "data": {
                        "text/plain": [
                            "'The images provided appear to be pages from a handwritten letter by an individual identifying himself as Mr. Archie C. Williams. From the content of the letter, the following key information about the applicant\\'s case can be summarized:\\n\\n- Personal identification details: The applicant, Archie C. Williams, is 35 years old.\\n  \\n- Specifics of the crime: Williams is serving a life sentence for the attempted murder of a Baton Rouge woman, which he states he did not commit.\\n\\n- Account of events surrounding the crime: The letter does not detail Williams\\' specific account of the events other than him asserting his innocence.\\n\\n- Alibi or evidence: Williams claims that a DNA test could prove his innocence. He seems to strongly believe that this evidence would be enough to establish his innocence regarding the crime he was convicted for.\\n\\n- Connections or relationships: He references the victim as the wife of a \"big-time Baton Rouge Attorney,\" suggesting that this connection may have influenced the willingness of local entities to take on his case.\\n\\n- Stance on conviction: Williams disputes his conviction, maintaining his innocence, and expresses a feeling of abandonment by the system, stating that after the first two years, people generally cease to care about individuals in his situation. Moreover, he feels ignored by the legal system, specifying that no one in Baton Rouge wants his case, which he attributes to the status of the victim\\'s husband.\\n\\nHe concludes the letter by expressing hope that the recipient, Mr. Barry, will find it in their heart to help him and states that he would appreciate any form of assistance, even if it is just reading about his case. He found Mr. Barry through talking to a friend, and although he acknowledges that Mr. Barry must be very busy, he remains hopeful for some assistance. Williams closes with gratitude and a blessing for Mr. Barry and his family.'"
                        ]
                    },
                    "execution_count": 21,
                    "metadata": {},
                    "output_type": "execute_result"
                }
            ],
            "source": [
                "file_path = \"path/to/your/file.pdf\"\n",
                "background = analyze_applicant_intake_letters(file_path)\n",
                "background"
            ]
        },
        {
            "cell_type": "markdown",
            "metadata": {},
            "source": [
                "# MissingInfo Check"
            ]
        },
        {
            "cell_type": "code",
            "execution_count": 5,
            "metadata": {},
            "outputs": [],
            "source": [
                "from langchain.prompts import PromptTemplate\n",
                "from langchain_core.output_parsers import JsonOutputParser\n",
                "from langchain_core.pydantic_v1 import BaseModel, Field, validator"
            ]
        },
        {
            "cell_type": "code",
            "execution_count": 6,
            "metadata": {},
            "outputs": [],
            "source": [
                "class MissInfoCheckOutput(BaseModel):\n",
                "    response: str = Field(\n",
                "        ...,  \n",
                "        description=\"Yes or No reply to the question: 'Is there any missing information?'\",\n",
                "    )\n",
                "    letter: str = Field(\n",
                "        ...,\n",
                "        description=\"The letter that asks for missing information, provided only if response is 'Yes'.\",\n",
                "    )\n",
                "\n",
                "    @validator(\"response\")\n",
                "    def response_must_be_yes_or_no(cls, v):\n",
                "        if v.lower() not in [\"yes\", \"no\"]:\n",
                "            raise ValueError('Response must be either \"yes\" or \"no\".')\n",
                "        return v.lower()\n",
                "\n",
                "    class Config:\n",
                "        schema_extra = {\n",
                "            \"example\": {\n",
                "                \"response\": \"yes\",\n",
                "                \"next_steps\": \"Dear [Applicant Name],\\n\\nWe have reviewed your submission and found that it is missing critical information needed for further evaluation. Specifically, we require [missing information]. Please provide this at your earliest convenience.\\n\\nSincerely,\\n[Your Name]\",\n",
                "            }\n",
                "        }"
            ]
        },
        {
            "cell_type": "code",
            "execution_count": 7,
            "metadata": {},
            "outputs": [
                {
                    "data": {
                        "text/plain": [
                            "'The output should be formatted as a JSON instance that conforms to the JSON schema below.\\n\\nAs an example, for the schema {\"properties\": {\"foo\": {\"title\": \"Foo\", \"description\": \"a list of strings\", \"type\": \"array\", \"items\": {\"type\": \"string\"}}}, \"required\": [\"foo\"]}\\nthe object {\"foo\": [\"bar\", \"baz\"]} is a well-formatted instance of the schema. The object {\"properties\": {\"foo\": [\"bar\", \"baz\"]}} is not well-formatted.\\n\\nHere is the output schema:\\n```\\n{\"properties\": {\"response\": {\"title\": \"Response\", \"description\": \"Yes or No reply to the question: \\'Is there any missing information?\\'\", \"type\": \"string\"}, \"letter\": {\"title\": \"Letter\", \"description\": \"The letter that asks for missing information, provided only if response is \\'Yes\\'.\", \"type\": \"string\"}}, \"required\": [\"response\", \"letter\"], \"example\": {\"response\": \"yes\", \"letter\": \"Dear [Applicant Name],\\\\n\\\\nWe have reviewed your submission and found that it is missing critical information needed for further evaluation. Specifically, we require [missing information]. Please provide this at your earliest convenience.\\\\n\\\\nSincerely,\\\\n[Your Name]\"}}\\n```'"
                        ]
                    },
                    "execution_count": 7,
                    "metadata": {},
                    "output_type": "execute_result"
                }
            ],
            "source": [
                "MISSINFO_CHECK_PARSER = JsonOutputParser(pydantic_object=MissInfoCheckOutput)\n",
                "MISSINFO_CHECK_PARSER.get_format_instructions()"
            ]
        },
        {
            "cell_type": "code",
            "execution_count": 8,
            "metadata": {},
            "outputs": [],
            "source": [
                "MISSINFO_CHECK_PROMPT = PromptTemplate(\n",
                "    input_variables=[\"background\"],\n",
                "    template=MISSINFO_CHECK_PROMPT_TEMPLATE,\n",
                "    partial_variables={\n",
                "        \"format_instructions\": MISSINFO_CHECK_PARSER.get_format_instructions()\n",
                "    }\n",
                ")\n",
                "\n",
                "MISSINFO_CHECK_CHAIN = MISSINFO_CHECK_PROMPT | LLM | MISSINFO_CHECK_PARSER"
            ]
        },
        {
            "cell_type": "code",
            "execution_count": 80,
            "metadata": {},
            "outputs": [
                {
                    "data": {
                        "text/plain": [
                            "{'response': 'YES',\n",
                            " 'letter': 'Dear John Smith,\\n\\nWe have reviewed your intake letter and found that there is missing critical information needed for further evaluation of your case. Specifically, we require the following details:\\n1. Specifics of your alibi for the time of the crime on January 15, 2023.\\n2. Any evidence or witnesses that can corroborate your alibi.\\n3. Any connections or interactions you may have had with the store clerk or anyone involved in the case.\\n\\nPlease provide the above information at your earliest convenience to assist us in assessing your situation.\\n\\nSincerely,\\n[Your Name]'}"
                        ]
                    },
                    "execution_count": 80,
                    "metadata": {},
                    "output_type": "execute_result"
                }
            ],
            "source": [
                "missinfo_check = MISSINFO_CHECK_CHAIN.invoke({\"background\": background})\n",
                "missinfo_check"
            ]
        },
        {
            "cell_type": "markdown",
            "metadata": {},
            "source": [
                "# Criterial Check"
            ]
        },
        {
            "cell_type": "code",
            "execution_count": 14,
            "metadata": {},
            "outputs": [
                {
                    "name": "stdout",
                    "output_type": "stream",
                    "text": [
                        "The output should be formatted as a JSON instance that conforms to the JSON schema below.\n",
                        "\n",
                        "As an example, for the schema {\"properties\": {\"foo\": {\"title\": \"Foo\", \"description\": \"a list of strings\", \"type\": \"array\", \"items\": {\"type\": \"string\"}}}, \"required\": [\"foo\"]}\n",
                        "the object {\"foo\": [\"bar\", \"baz\"]} is a well-formatted instance of the schema. The object {\"properties\": {\"foo\": [\"bar\", \"baz\"]}} is not well-formatted.\n",
                        "\n",
                        "Here is the output schema:\n",
                        "```\n",
                        "{\"properties\": {\"evaluation\": {\"title\": \"Evaluation\", \"description\": \"The step by step evaluation of the applicant's case against the Innocence Project's criteria, including detailed reasoning for each point of consideration.\", \"type\": \"string\"}, \"conclusion\": {\"title\": \"Conclusion\", \"description\": \"The conclusion of the evaluation, stating whether the case matches the excluded criteria or is suitable for further review.\", \"type\": \"string\"}, \"next_steps\": {\"title\": \"Next Steps\", \"description\": \"The next steps to be taken based on the evaluation. This could be drafting a rejection letter if the case meets the excluded criteria or indicating the case is forwarded to a different team for cases that do not match the excluded criteria.\", \"type\": \"string\"}}, \"required\": [\"evaluation\", \"conclusion\", \"next_steps\"], \"example\": {\"evaluation\": \"The applicant's case was reviewed step by step against the project's criteria. No evidence of self-defense, illegal substance charges, or fraud was found because [detailed reasoning].\", \"conclusion\": \"The case does not match any of the excluded criteria and is suitable for further review.\", \"next_steps\": \"The case is forwarded to the review team for detailed evaluation.\"}}\n",
                        "```\n"
                    ]
                }
            ],
            "source": [
                "class CriteriaCheckOutput(BaseModel):\n",
                "    evaluation: str = Field(\n",
                "        ...,\n",
                "        description=\"The step by step evaluation of the applicant's case against the Innocence Project's criteria, including detailed reasoning for each point of consideration.\",\n",
                "    )\n",
                "    conclusion: str = Field(\n",
                "        ...,\n",
                "        description=\"The conclusion of the evaluation, stating whether the case matches the excluded criteria or is suitable for further review.\",\n",
                "    )\n",
                "    next_steps: str = Field(\n",
                "        ...,\n",
                "        description=\"The next steps to be taken based on the evaluation. This could be drafting a rejection letter if the case meets the excluded criteria or indicating the case is forwarded to a different team for cases that do not match the excluded criteria.\",\n",
                "    )\n",
                "\n",
                "    class Config:\n",
                "        schema_extra = {\n",
                "            \"example\": {\n",
                "                \"evaluation\": \"The applicant's case was reviewed step by step against the project's criteria. No evidence of self-defense, illegal substance charges, or fraud was found because [detailed reasoning].\",\n",
                "                \"conclusion\": \"The case does not match any of the excluded criteria and is suitable for further review.\",\n",
                "                \"next_steps\": \"The case is forwarded to the review team for detailed evaluation.\",\n",
                "            }\n",
                "        }\n",
                "\n",
                "\n",
                "CRITERIA_CHECK_PARSER = JsonOutputParser(pydantic_object=CriteriaCheckOutput)\n",
                "\n",
                "# Assuming JsonOutputParser is a predefined class that formats and handles the output based on the CriteriaCheckOutput structure.\n",
                "print(CRITERIA_CHECK_PARSER.get_format_instructions())"
            ]
        },
        {
            "cell_type": "code",
            "execution_count": 10,
            "metadata": {},
            "outputs": [],
            "source": [
                "CRITERIA_CHECK_PROMPT = PromptTemplate(\n",
                "    input_variables=[\"background\"],\n",
                "    template=CRITERIA_CHECK_PROMPT_TEMPLATE,\n",
                "    partial_variables={\"format_instructions\": CRITERIA_CHECK_PARSER.get_format_instructions()}\n",
                ")\n",
                "\n",
                "CRITERIA_CHECK_CHAIN = CRITERIA_CHECK_PROMPT | LLM | CRITERIA_CHECK_PARSER"
            ]
        },
        {
            "cell_type": "code",
            "execution_count": 17,
            "metadata": {},
            "outputs": [
                {
                    "data": {
                        "text/plain": [
                            "{'evaluation': \"The applicant's case was reviewed step by step against the Innocence Project's criteria. The case does not fall into the excluded categories of consent/transaction cases, self-defense/justification, sustained abuse, illegal substance charges, RICO/Hobbs Act charges, DWI/DUI, fraud/identity theft/forgery, stalking/harassment, or sentencing reduction/overcharge issues.\",\n",
                            " 'conclusion': 'The case does not match any of the excluded criteria and is suitable for further review.',\n",
                            " 'next_steps': 'The case is forwarded to the review team for detailed evaluation.'}"
                        ]
                    },
                    "execution_count": 17,
                    "metadata": {},
                    "output_type": "execute_result"
                }
            ],
            "source": [
                "critiria_check_response = CRITERIA_CHECK_CHAIN.invoke({\"background\": background})\n",
                "critiria_check_response"
            ]
        },
        {
            "cell_type": "markdown",
            "metadata": {},
            "source": [
                "# Pipeline"
            ]
        },
        {
            "cell_type": "code",
            "execution_count": 11,
            "metadata": {},
            "outputs": [],
            "source": [
                "from termcolor import colored\n",
                "\n",
                "\n",
                "def eval_pipeline(file_path_or_images: Union[str, List[str]]) -> None:\n",
                "    \"\"\"\n",
                "    Evaluates an applicant's intake letter and provides a response based on the extracted information.\n",
                "    \n",
                "    Args:\n",
                "        file_path_or_images (Union[str, List[str]]): The file path of the PDF or a list of image file paths containing the applicant's intake letters.\n",
                "        \n",
                "    Returns:\n",
                "        None\n",
                "    \"\"\"\n",
                "    print(colored(\"Analyzing applicant's intake letter from the input files. Please wait...\", 'blue'))\n",
                "\n",
                "    # Assuming an affirmative response, proceed with analysis\n",
                "    background = analyze_applicant_intake_letters(file_path_or_images)\n",
                "\n",
                "    # Before printing out the background information\n",
                "    print(\n",
                "        colored(\n",
                "            \"What background information have we extracted from the applicant's intake letter?\",\n",
                "            \"blue\",\n",
                "        )\n",
                "    )\n",
                "    print(colored(background, \"yellow\"))\n",
                "\n",
                "    # Checking for missing information\n",
                "    print(\n",
                "        colored(\n",
                "            \"\\nIs there any missing information in the application that we need to address?\",\n",
                "            \"blue\",\n",
                "        )\n",
                "    )\n",
                "    missinfo_check = MISSINFO_CHECK_CHAIN.invoke({\"background\": background})\n",
                "\n",
                "    if missinfo_check[\"response\"] == \"yes\":\n",
                "        print(\n",
                "            colored(\n",
                "                \"What does the drafted letter requesting the missing information say?\",\n",
                "                \"blue\",\n",
                "            )\n",
                "        )\n",
                "        print(colored(missinfo_check[\"next_steps\"], \"yellow\"))\n",
                "    else:\n",
                "        print(\n",
                "            colored(\n",
                "                \"With no missing information, how does the applicant's case stand against our criteria?\",\n",
                "                \"blue\",\n",
                "            )\n",
                "        )\n",
                "        critiria_check_response = CRITERIA_CHECK_CHAIN.invoke(\n",
                "            {\"background\": background}\n",
                "        )\n",
                "        print(colored(\"Evaluation:\", \"green\"), critiria_check_response[\"evaluation\"])\n",
                "        print(colored(\"Conclusion:\", \"green\"), critiria_check_response[\"conclusion\"])\n",
                "        print(colored(\"Next Steps:\", \"green\"), critiria_check_response[\"next_steps\"])"
            ]
        },
        {
            "cell_type": "code",
            "execution_count": 15,
            "metadata": {},
            "outputs": [
                {
                    "name": "stdout",
                    "output_type": "stream",
                    "text": [
                        "\u001b[34mAnalyzing applicant's intake letter from the input files. Please wait...\u001b[0m\n",
                        "\u001b[34mWhat background information have we extracted from the applicant's intake letter?\u001b[0m\n",
                        "\u001b[33mThis letter, dated March 19, 1995, is from an individual serving a life sentence for attempted murder and rape in Baton Rouge. The applicant asserts that they are innocent of the crimes they were convicted of. They express a sense of abandonment and disillusionment with the support system as years pass with no one caring about their situation. They have seemingly exhausted their resources, having reached out for help in numerous places without a response and having their concerns dismissed due to the high-profile nature of the alleged victim's husband, who is described as a significant Baton Rouge attorney.\n",
                        "\n",
                        "The applicant is eager to prove their innocence through a DNA test, which they believe would confirm they did not commit the crime. As they have been incarcerated for 12 years at the time of the letter, they experience financial difficulties. Their emphasis is on the urgency and significance of getting someone to take notice of their case and help them due to their proclaimed innocence.\u001b[0m\n",
                        "\u001b[34m\n",
                        "Is there any missing information in the application that we need to address?\u001b[0m\n",
                        "\u001b[34mWith no missing information, how does the applicant's case stand against our criteria?\u001b[0m\n",
                        "\u001b[32mEvaluation:\u001b[0m The applicant's case was reviewed against the Innocence Project's criteria for cases they do not handle, including consent/transaction cases, self-defense/justification, sustained abuse, illegal substance charges, RICO/Hobbs Act charges, DWI/DUI, fraud/identity theft/forgery, stalking/harassment, and sentencing reduction/overcharge issues.\n",
                        "\u001b[32mConclusion:\u001b[0m The case does not fall under any of the excluded categories listed by the Innocence Project. The applicant's assertion of innocence and request for a DNA test to prove their innocence align with the core mission of the Innocence Project.\n",
                        "\u001b[32mNext Steps:\u001b[0m The case is suitable for further review by the Innocence Project to assess the validity of the applicant's claims and to potentially assist in conducting a DNA test to establish innocence.\n"
                    ]
                }
            ],
            "source": [
                "# the images files work better than the pdf file somehow (don't know why)\n",
                "file_path = \"path/to/your/file.pdf\"\n",
                "eval_pipeline(file_path)"
            ]
        }
    ],
    "metadata": {
        "kernelspec": {
            "display_name": "base",
            "language": "python",
            "name": "python3"
        },
        "language_info": {
            "codemirror_mode": {
                "name": "ipython",
                "version": 3
            },
            "file_extension": ".py",
            "mimetype": "text/x-python",
            "name": "python",
            "nbconvert_exporter": "python",
            "pygments_lexer": "ipython3",
            "version": "3.9.18"
        }
    },
    "nbformat": 4,
    "nbformat_minor": 2
}
